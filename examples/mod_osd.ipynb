{
 "cells": [
  {
   "cell_type": "code",
   "execution_count": null,
   "metadata": {},
   "outputs": [],
   "source": [
    "import numpy as np\n",
    "import ldpc.codes\n",
    "from ldpc.bplsd_decoder import BpLsdDecoder\n",
    "from ldpc.bposd_decoder import BpOsdDecoder"
   ]
  },
  {
   "cell_type": "code",
   "execution_count": null,
   "metadata": {},
   "outputs": [],
   "source": [
    "H = ldpc.codes.hamming_code(9)\n",
    "bp_osd = BpOsdDecoder(      \n",
    "    H, #the parity check matrix\n",
    "    error_rate=0.1, # the error rate on each bit\n",
    "    max_iter=3, #the maximum iteration depth for BP\n",
    "    bp_method=\"product_sum\", #BP method. The other option is `minimum_sum'\n",
    "    channel_probs=[None] #channel probability probabilities. Will overide error rate.\n",
    ")"
   ]
  },
  {
   "cell_type": "code",
   "execution_count": null,
   "metadata": {},
   "outputs": [],
   "source": [
    "syndrome = np.random.randint(size=H.shape[0], low=0, high=2).astype(np.uint8)\n",
    "\n",
    "print(f\"Syndrome: {syndrome}\")\n",
    "decoding = bp_osd.decode(syndrome)\n",
    "print(f\"Decoding: {decoding}\")\n",
    "decoding_syndrome = H@decoding % 2\n",
    "print(f\"Decoding syndrome: {decoding_syndrome}\")"
   ]
  },
  {
   "cell_type": "code",
   "execution_count": null,
   "metadata": {},
   "outputs": [],
   "source": [
    "bp_osd.converge"
   ]
  },
  {
   "cell_type": "code",
   "execution_count": null,
   "metadata": {},
   "outputs": [],
   "source": [
    "bp_osd.log_prob_ratios"
   ]
  },
  {
   "cell_type": "code",
   "execution_count": null,
   "metadata": {},
   "outputs": [],
   "source": [
    "n_qubits = H.shape[1]\n",
    "log_probs_ratio = bp_osd.log_prob_ratios\n",
    "\n",
    "bp_osd = BpOsdDecoder(      \n",
    "    H, #the parity check matrix\n",
    "    error_rate=0.1, # the error rate on each bit\n",
    "    max_iter=3, #the maximum iteration depth for BP\n",
    "    bp_method=\"product_sum\", #BP method. The other option is `minimum_sum'\n",
    "    channel_probs=[None] #channel probability probabilities. Will overide error rate.\n",
    ")\n",
    "\n",
    "decoding = bp_osd.osd_decode(syndrome, log_probs_ratio)\n",
    "print(f\"Decoding: {decoding}\")\n",
    "decoding_syndrome = H@decoding % 2\n",
    "print(f\"Decoding syndrome: {decoding_syndrome}\")"
   ]
  },
  {
   "cell_type": "code",
   "execution_count": null,
   "metadata": {},
   "outputs": [],
   "source": []
  }
 ],
 "metadata": {
  "kernelspec": {
   "display_name": "QEC",
   "language": "python",
   "name": "python3"
  },
  "language_info": {
   "codemirror_mode": {
    "name": "ipython",
    "version": 3
   },
   "file_extension": ".py",
   "mimetype": "text/x-python",
   "name": "python",
   "nbconvert_exporter": "python",
   "pygments_lexer": "ipython3",
   "version": "3.8.17"
  }
 },
 "nbformat": 4,
 "nbformat_minor": 2
}
